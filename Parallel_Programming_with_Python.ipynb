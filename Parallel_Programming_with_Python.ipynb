{
  "nbformat": 4,
  "nbformat_minor": 0,
  "metadata": {
    "colab": {
      "provenance": []
    },
    "kernelspec": {
      "name": "python3",
      "display_name": "Python 3"
    },
    "language_info": {
      "name": "python"
    }
  },
  "cells": [
    {
      "cell_type": "markdown",
      "source": [
        "# <span style='color:#8b46b3'><center style='background:#ff7ea8;border-radius:0px 100px;padding:25px'> 🌸📉Parallel Programming with Python📈🌺</center></span>\n",
        "\n"
      ],
      "metadata": {
        "id": "zsTWkQIAIujd"
      }
    },
    {
      "cell_type": "markdown",
      "source": [
        "## Code without any parallelization"
      ],
      "metadata": {
        "id": "-t610MLOJUUA"
      }
    },
    {
      "cell_type": "code",
      "source": [
        "import math\n",
        "import time\n",
        "\n",
        "def calculate_pi(N):\n",
        "    # Width of each small rectangle\n",
        "    delta_x = 1.0 / N\n",
        "    sum_area = 0.0\n",
        "\n",
        "    # Calculate area using the sum of rectangles\n",
        "    for i in range(N):\n",
        "        x_i = i * delta_x\n",
        "        f_x_i = math.sqrt(1 - x_i**2)  # f(x) = sqrt(1 - x^2)\n",
        "        sum_area += f_x_i * delta_x\n",
        "\n",
        "    # The total area under the curve is an approximation for pi/4, so multiply by 4\n",
        "    pi_approx = sum_area * 4\n",
        "    return pi_approx\n",
        "\n",
        "# Number of rectangles\n",
        "N = 1000000\n",
        "\n",
        "# Start timing\n",
        "start_time = time.time()\n",
        "\n",
        "pi_value = calculate_pi(N)\n",
        "\n",
        "# Stop timing\n",
        "end_time = time.time()\n",
        "\n",
        "# Calculate execution time\n",
        "execution_time = end_time - start_time\n",
        "\n",
        "print(f\"Approximation of π with N={N} {pi_value}\")\n",
        "print(f\"Execution time: {execution_time} seconds\")\n"
      ],
      "metadata": {
        "id": "z87ha-wF46oe",
        "colab": {
          "base_uri": "https://localhost:8080/"
        },
        "outputId": "f077fe69-1954-448a-9cf4-bcff515fd115"
      },
      "execution_count": null,
      "outputs": [
        {
          "output_type": "stream",
          "name": "stdout",
          "text": [
            "Approximation of π with N=100000000 3.1415926735892157\n",
            "Execution time: 34.828962564468384 seconds\n"
          ]
        }
      ]
    },
    {
      "cell_type": "markdown",
      "source": [
        "## Parallel computing via multiprocessing"
      ],
      "metadata": {
        "id": "R_TX-_tQPDwP"
      }
    },
    {
      "cell_type": "code",
      "source": [
        "import math\n",
        "from multiprocessing import Pool\n",
        "import time  # Import the time module\n",
        "\n",
        "def calculate_area(x):\n",
        "    \"\"\" Function to calculate the area of a single rectangle \"\"\"\n",
        "    return math.sqrt(1 - x**2) * delta_x\n",
        "\n",
        "def parallel_pi_calculation(N, num_processes):\n",
        "    \"\"\" Function to calculate pi using multiple processes \"\"\"\n",
        "    global delta_x\n",
        "    delta_x = 1.0 / N  # Width of each rectangle\n",
        "\n",
        "    # Create a list of x values where the height of the rectangle will be calculated\n",
        "    x_values = [i * delta_x for i in range(N)]\n",
        "\n",
        "    # Start timing before the calculation starts\n",
        "    start_time = time.time()\n",
        "\n",
        "    # Create a pool of processes and calculate areas\n",
        "    with Pool(processes=num_processes) as pool:\n",
        "        areas = pool.map(calculate_area, x_values)\n",
        "\n",
        "    # Stop timing after the calculation is complete\n",
        "    end_time = time.time()\n",
        "\n",
        "    # Calculate total execution time\n",
        "    execution_time = end_time - start_time\n",
        "\n",
        "    # Sum the areas calculated by different processes and multiply by 4 to get pi\n",
        "    total_area = sum(areas)\n",
        "    pi_approx = 4 * total_area\n",
        "\n",
        "    return pi_approx, execution_time\n",
        "\n",
        "# Number of rectangles and number of processes\n",
        "N = 10000000\n",
        "num_processes = 8  # Adjust this according to your system's CPU cores\n",
        "\n",
        "# Calculate pi and get the execution time\n",
        "pi_value, time_taken = parallel_pi_calculation(N, num_processes)\n",
        "print(f\"Approximated value of pi: {pi_value}\")\n",
        "print(f\"Execution time: {time_taken} seconds\")\n"
      ],
      "metadata": {
        "id": "FTYGexLaoc8e",
        "colab": {
          "base_uri": "https://localhost:8080/"
        },
        "outputId": "a8af3c77-a395-4d0e-8560-6808220e862d"
      },
      "execution_count": null,
      "outputs": [
        {
          "output_type": "stream",
          "name": "stdout",
          "text": [
            "Approximated value of pi: 3.1415928535523587\n",
            "Execution time: 6.970126628875732 seconds\n"
          ]
        }
      ]
    },
    {
      "cell_type": "markdown",
      "source": [
        "## Distributed parallel computing via mi4py"
      ],
      "metadata": {
        "id": "T7b0CF0LPMFd"
      }
    },
    {
      "cell_type": "code",
      "source": [
        "pip install mpi4py"
      ],
      "metadata": {
        "colab": {
          "base_uri": "https://localhost:8080/"
        },
        "id": "NWaIDOSS6n2v",
        "outputId": "39fbc7f2-1e6a-48fd-8fb8-dce315bd5b95"
      },
      "execution_count": null,
      "outputs": [
        {
          "output_type": "stream",
          "name": "stdout",
          "text": [
            "Collecting mpi4py\n",
            "  Downloading mpi4py-3.1.6.tar.gz (2.4 MB)\n",
            "\u001b[?25l     \u001b[90m━━━━━━━━━━━━━━━━━━━━━━━━━━━━━━━━━━━━━━━━\u001b[0m \u001b[32m0.0/2.4 MB\u001b[0m \u001b[31m?\u001b[0m eta \u001b[36m-:--:--\u001b[0m\r\u001b[2K     \u001b[91m━━\u001b[0m\u001b[91m╸\u001b[0m\u001b[90m━━━━━━━━━━━━━━━━━━━━━━━━━━━━━━━━━━━━━\u001b[0m \u001b[32m0.2/2.4 MB\u001b[0m \u001b[31m4.9 MB/s\u001b[0m eta \u001b[36m0:00:01\u001b[0m\r\u001b[2K     \u001b[91m━━━━━━━━━━━━━━━━━━━━━━━━━━━━━━━━━━━━━━━\u001b[0m\u001b[91m╸\u001b[0m \u001b[32m2.4/2.4 MB\u001b[0m \u001b[31m40.0 MB/s\u001b[0m eta \u001b[36m0:00:01\u001b[0m\r\u001b[2K     \u001b[90m━━━━━━━━━━━━━━━━━━━━━━━━━━━━━━━━━━━━━━━━\u001b[0m \u001b[32m2.4/2.4 MB\u001b[0m \u001b[31m28.4 MB/s\u001b[0m eta \u001b[36m0:00:00\u001b[0m\n",
            "\u001b[?25h  Installing build dependencies ... \u001b[?25l\u001b[?25hdone\n",
            "  Getting requirements to build wheel ... \u001b[?25l\u001b[?25hdone\n",
            "  Preparing metadata (pyproject.toml) ... \u001b[?25l\u001b[?25hdone\n",
            "Building wheels for collected packages: mpi4py\n",
            "  Building wheel for mpi4py (pyproject.toml) ... \u001b[?25l\u001b[?25hdone\n",
            "  Created wheel for mpi4py: filename=mpi4py-3.1.6-cp310-cp310-linux_x86_64.whl size=2746325 sha256=105e13f44fedb78f479014efd664540c11c2ec9198d7d5bafd765f3701d90a89\n",
            "  Stored in directory: /root/.cache/pip/wheels/4c/ca/89/8fc1fb1c620afca13bb41c630b1f948bbf446e0aaa4b762e10\n",
            "Successfully built mpi4py\n",
            "Installing collected packages: mpi4py\n",
            "Successfully installed mpi4py-3.1.6\n"
          ]
        }
      ]
    },
    {
      "cell_type": "code",
      "source": [
        "from mpi4py import MPI\n",
        "import numpy as np\n",
        "import time\n",
        "\n",
        "def f(x):\n",
        "    return np.sqrt(1 - x**2)\n",
        "\n",
        "def main():\n",
        "    comm = MPI.COMM_WORLD\n",
        "    rank = comm.Get_rank()\n",
        "    size = comm.Get_size()\n",
        "\n",
        "    # Total number of rectangles\n",
        "    N = 1000000\n",
        "    delta_x = 1.0 / N\n",
        "\n",
        "    # Each process will handle a subset of the total range\n",
        "    local_n = N // size\n",
        "    local_a = rank * local_n * delta_x\n",
        "    local_b = local_a + local_n * delta_x\n",
        "\n",
        "    local_sum = 0.0\n",
        "\n",
        "    # Start timing for each process\n",
        "    start_time = time.time()\n",
        "\n",
        "    for i in range(local_n):\n",
        "        x = local_a + (i + 0.5) * delta_x\n",
        "        local_sum += f(x) * delta_x\n",
        "\n",
        "    # Gather all local sums into the root process\n",
        "    total_sum = comm.reduce(local_sum, op=MPI.SUM, root=0)\n",
        "\n",
        "    # End timing for each process\n",
        "    end_time = time.time()\n",
        "\n",
        "    # Calculate and print the final result and execution time in the root process\n",
        "    if rank == 0:\n",
        "        pi_approx = total_sum * 4\n",
        "        execution_time = end_time - start_time\n",
        "        print(f\"Approximated value of pi: {pi_approx}\")\n",
        "        print(f\"Execution time: {execution_time} seconds\")\n",
        "\n",
        "if __name__ == '__main__':\n",
        "    main()\n"
      ],
      "metadata": {
        "id": "z0w7azNKodec",
        "colab": {
          "base_uri": "https://localhost:8080/"
        },
        "outputId": "e647bb7d-d839-41b1-adf7-b40a6c95d7e6"
      },
      "execution_count": null,
      "outputs": [
        {
          "output_type": "stream",
          "name": "stdout",
          "text": [
            "Approximated value of pi: 3.1415926539343633\n",
            "Execution time: 1.480806589126587 seconds\n"
          ]
        }
      ]
    }
  ]
}